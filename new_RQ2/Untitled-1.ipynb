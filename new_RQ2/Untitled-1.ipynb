{
 "cells": [
  {
   "cell_type": "code",
   "execution_count": 1,
   "metadata": {},
   "outputs": [],
   "source": [
    "import pandas as pd"
   ]
  },
  {
   "cell_type": "code",
   "execution_count": 5,
   "metadata": {},
   "outputs": [
    {
     "data": {
      "text/plain": [
       "expect                 10113\n",
       "andReturn               9972\n",
       "anyTimes                5236\n",
       "createNiceMock          3649\n",
       "createMock              2081\n",
       "atLeastOnce             1407\n",
       "once                    1378\n",
       "anyObject               1299\n",
       "replay                  1294\n",
       "eq                       909\n",
       "verify                   684\n",
       "expectLastCall           606\n",
       "replayAll                529\n",
       "capture                  480\n",
       "newCapture               437\n",
       "verifyAll                410\n",
       "createStrictMock         395\n",
       "getValue                 313\n",
       "times                    297\n",
       "anyString                268\n",
       "addMockedMethod          181\n",
       "anyLong                  139\n",
       "createMockBuilder        129\n",
       "reset                    111\n",
       "andThrow                  97\n",
       "hasCaptured               92\n",
       "withConstructor           84\n",
       "anyBoolean                54\n",
       "andAnswer                 54\n",
       "newInstance               47\n",
       "isA                       43\n",
       "getValues                 43\n",
       "andStubReturn             36\n",
       "getCurrentArguments       32\n",
       "resetAll                  27\n",
       "startsWith                26\n",
       "isNull                    24\n",
       "niceMock                  16\n",
       "addMockedMethods          15\n",
       "aryEq                     15\n",
       "reportMatcher             13\n",
       "mock                      11\n",
       "partialMockBuilder        10\n",
       "anyInt                    10\n",
       "resetToStrict              9\n",
       "injectMocks                9\n",
       "withArgs                   8\n",
       "same                       6\n",
       "andStubAnswer              5\n",
       "captureLong                3\n",
       "endsWith                   2\n",
       "createControl              1\n",
       "andVoid                    1\n",
       "captureBoolean             1\n",
       "Name: method, dtype: int64"
      ]
     },
     "execution_count": 5,
     "metadata": {},
     "output_type": "execute_result"
    }
   ],
   "source": [
    "easymock=pd.read_csv(\"easymock/ambari.csv\")\n",
    "easymock['method'].value_counts()"
   ]
  },
  {
   "cell_type": "code",
   "execution_count": 6,
   "metadata": {},
   "outputs": [
    {
     "data": {
      "text/plain": [
       "when               1041\n",
       "thenReturn          921\n",
       "mock                666\n",
       "anyString           185\n",
       "any                  95\n",
       "anyLong              79\n",
       "getArguments         68\n",
       "verify               56\n",
       "doReturn             44\n",
       "spy                  39\n",
       "doAnswer             35\n",
       "eq                   31\n",
       "doNothing            23\n",
       "never                20\n",
       "anyListOf            18\n",
       "getValue             16\n",
       "times                13\n",
       "capture              12\n",
       "thenAnswer           11\n",
       "forClass             10\n",
       "doThrow               8\n",
       "thenThrow             6\n",
       "anyCollectionOf       5\n",
       "anyBoolean            4\n",
       "getAllValues          3\n",
       "initMocks             3\n",
       "anyObject             2\n",
       "atLeastOnce           2\n",
       "reset                 1\n",
       "atLeast               1\n",
       "anyInt                1\n",
       "Name: method, dtype: int64"
      ]
     },
     "execution_count": 6,
     "metadata": {},
     "output_type": "execute_result"
    }
   ],
   "source": [
    "mockito=pd.read_csv(\"mockito/ambari.csv\")\n",
    "mockito['method'].value_counts()"
   ]
  }
 ],
 "metadata": {
  "kernelspec": {
   "display_name": "Python 3.9.12 ('base')",
   "language": "python",
   "name": "python3"
  },
  "language_info": {
   "codemirror_mode": {
    "name": "ipython",
    "version": 3
   },
   "file_extension": ".py",
   "mimetype": "text/x-python",
   "name": "python",
   "nbconvert_exporter": "python",
   "pygments_lexer": "ipython3",
   "version": "3.9.12"
  },
  "orig_nbformat": 4,
  "vscode": {
   "interpreter": {
    "hash": "32a64380489c3135c893f1b217ea8464e391d0b70e2501c68e4a0156009bb2d0"
   }
  }
 },
 "nbformat": 4,
 "nbformat_minor": 2
}
